{
  "nbformat": 4,
  "nbformat_minor": 0,
  "metadata": {
    "colab": {
      "provenance": [],
      "authorship_tag": "ABX9TyPwo19RchSAvJPk+XiB8Nn5",
      "include_colab_link": true
    },
    "kernelspec": {
      "name": "python3",
      "display_name": "Python 3"
    },
    "language_info": {
      "name": "python"
    }
  },
  "cells": [
    {
      "cell_type": "markdown",
      "metadata": {
        "id": "view-in-github",
        "colab_type": "text"
      },
      "source": [
        "<a href=\"https://colab.research.google.com/github/VictorVillarrealG/TallerAnalisisDeDatos/blob/main/Lab.ipynb\" target=\"_parent\"><img src=\"https://colab.research.google.com/assets/colab-badge.svg\" alt=\"Open In Colab\"/></a>"
      ]
    },
    {
      "cell_type": "code",
      "execution_count": null,
      "metadata": {
        "id": "uJPf0XSQagCx"
      },
      "outputs": [],
      "source": [
        "import pandas as pd\n",
        "import matplotlib.pyplot as plt\n",
        "df = pd.read_csv('/content/Dataset.csv')\n",
        "data = pd.DataFrame(df)\n"
      ]
    },
    {
      "cell_type": "code",
      "source": [
        "#1. Un grupo de datos por 2 columnas\n",
        "print(data[[\"Admission grade\", \"Gender\"]])\n"
      ],
      "metadata": {
        "colab": {
          "base_uri": "https://localhost:8080/"
        },
        "id": "QCSbniqJffu4",
        "outputId": "99e2ad13-5bd4-435b-8b68-0d896fcff8aa"
      },
      "execution_count": 19,
      "outputs": [
        {
          "output_type": "stream",
          "name": "stdout",
          "text": [
            "      Admission grade  Gender\n",
            "0               127.3       1\n",
            "1               142.5       1\n",
            "2               124.8       1\n",
            "3               119.6       0\n",
            "4               141.5       0\n",
            "...               ...     ...\n",
            "4419            122.2       1\n",
            "4420            119.0       0\n",
            "4421            149.5       0\n",
            "4422            153.8       0\n",
            "4423            152.0       0\n",
            "\n",
            "[4424 rows x 2 columns]\n"
          ]
        }
      ]
    },
    {
      "cell_type": "code",
      "source": [
        "#2. Realizar un sort de un grupo de datos y colocar los primeros 10\n",
        "print(data.sort_values(by=['Admission grade'],ascending = False)[['Admission grade','Gender']].head(10))"
      ],
      "metadata": {
        "colab": {
          "base_uri": "https://localhost:8080/"
        },
        "id": "HOs7jqJ8fiyo",
        "outputId": "36605c21-87f0-4bd4-ca45-c4659231e521"
      },
      "execution_count": 20,
      "outputs": [
        {
          "output_type": "stream",
          "name": "stdout",
          "text": [
            "      Admission grade  Gender\n",
            "702             190.0       1\n",
            "1673            190.0       0\n",
            "2511            190.0       0\n",
            "1888            184.4       0\n",
            "1126            184.0       0\n",
            "524             183.5       0\n",
            "82              180.4       1\n",
            "3813            180.0       0\n",
            "1533            180.0       1\n",
            "2205            180.0       1\n"
          ]
        }
      ]
    },
    {
      "cell_type": "code",
      "source": [
        "#3. Realizar un caclculo de un promedio y explicarlo\n",
        "admissionGrades = data[[\"Admission grade\"]]\n",
        "print(\"Promedio de notas de admisión -> \",admissionGrades.mean())\n",
        "#Promedio de notas de admision en base a los datos recopilados hasta año 2021"
      ],
      "metadata": {
        "colab": {
          "base_uri": "https://localhost:8080/"
        },
        "id": "eQ008_1mfliI",
        "outputId": "744a702e-a428-41a2-fa83-a6e3f6d7c780"
      },
      "execution_count": 22,
      "outputs": [
        {
          "output_type": "stream",
          "name": "stdout",
          "text": [
            "Promedio de notas de admisión ->  Admission grade    126.978119\n",
            "dtype: float64\n"
          ]
        }
      ]
    }
  ]
}